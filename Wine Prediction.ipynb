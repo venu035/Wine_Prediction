{
 "cells": [
  {
   "cell_type": "code",
   "execution_count": 27,
   "metadata": {},
   "outputs": [],
   "source": [
    "#importing necessary modules and functions\n",
    "import pandas as pd\n",
    "from sklearn.preprocessing import LabelEncoder\n",
    "from sklearn.model_selection import train_test_split\n",
    "from sklearn.tree import DecisionTreeClassifier\n",
    "from sklearn.metrics import accuracy_score\n",
    "from sklearn.ensemble import RandomForestClassifier\n",
    "import matplotlib.pyplot as plt\n",
    "from sklearn.metrics import confusion_matrix\n",
    "from sklearn.metrics import classification_report\n",
    "import featuretools as ft"
   ]
  },
  {
   "cell_type": "code",
   "execution_count": 28,
   "metadata": {},
   "outputs": [],
   "source": [
    "wine=pd.read_csv(\"C:/Users/Venu  Gopal/Desktop/Knight ML Assignment/Knight ML Assignment/Data/train.csv\")\n",
    "test_df=pd.read_csv(\"C:/Users/Venu  Gopal/Desktop/Knight ML Assignment/Knight ML Assignment/Data/test.csv\")"
   ]
  },
  {
   "cell_type": "code",
   "execution_count": 29,
   "metadata": {},
   "outputs": [
    {
     "data": {
      "text/plain": [
       "((82657, 12), (20665, 11))"
      ]
     },
     "execution_count": 29,
     "metadata": {},
     "output_type": "execute_result"
    }
   ],
   "source": [
    "wine.shape,test_df.shape"
   ]
  },
  {
   "cell_type": "code",
   "execution_count": 30,
   "metadata": {},
   "outputs": [
    {
     "data": {
      "text/html": [
       "<div>\n",
       "<style scoped>\n",
       "    .dataframe tbody tr th:only-of-type {\n",
       "        vertical-align: middle;\n",
       "    }\n",
       "\n",
       "    .dataframe tbody tr th {\n",
       "        vertical-align: top;\n",
       "    }\n",
       "\n",
       "    .dataframe thead th {\n",
       "        text-align: right;\n",
       "    }\n",
       "</style>\n",
       "<table border=\"1\" class=\"dataframe\">\n",
       "  <thead>\n",
       "    <tr style=\"text-align: right;\">\n",
       "      <th></th>\n",
       "      <th>user_name</th>\n",
       "      <th>country</th>\n",
       "      <th>review_title</th>\n",
       "      <th>review_description</th>\n",
       "      <th>designation</th>\n",
       "      <th>points</th>\n",
       "      <th>price</th>\n",
       "      <th>province</th>\n",
       "      <th>region_1</th>\n",
       "      <th>region_2</th>\n",
       "      <th>winery</th>\n",
       "      <th>variety</th>\n",
       "    </tr>\n",
       "  </thead>\n",
       "  <tbody>\n",
       "    <tr>\n",
       "      <th>0</th>\n",
       "      <td>NaN</td>\n",
       "      <td>Australia</td>\n",
       "      <td>Andrew Peace 2007 Peace Family Vineyard Chardo...</td>\n",
       "      <td>Classic Chardonnay aromas of apple, pear and h...</td>\n",
       "      <td>Peace Family Vineyard</td>\n",
       "      <td>83</td>\n",
       "      <td>10.0</td>\n",
       "      <td>Australia Other</td>\n",
       "      <td>South Eastern Australia</td>\n",
       "      <td>NaN</td>\n",
       "      <td>Andrew Peace</td>\n",
       "      <td>Chardonnay</td>\n",
       "    </tr>\n",
       "    <tr>\n",
       "      <th>1</th>\n",
       "      <td>@wawinereport</td>\n",
       "      <td>US</td>\n",
       "      <td>North by Northwest 2014 Red (Columbia Valley (...</td>\n",
       "      <td>This wine is near equal parts Syrah and Merlot...</td>\n",
       "      <td>NaN</td>\n",
       "      <td>89</td>\n",
       "      <td>15.0</td>\n",
       "      <td>Washington</td>\n",
       "      <td>Columbia Valley (WA)</td>\n",
       "      <td>Columbia Valley</td>\n",
       "      <td>North by Northwest</td>\n",
       "      <td>Red Blend</td>\n",
       "    </tr>\n",
       "    <tr>\n",
       "      <th>2</th>\n",
       "      <td>NaN</td>\n",
       "      <td>Italy</td>\n",
       "      <td>Renato Ratti 2007 Conca  (Barolo)</td>\n",
       "      <td>Barolo Conca opens with inky dark concentratio...</td>\n",
       "      <td>Conca</td>\n",
       "      <td>94</td>\n",
       "      <td>80.0</td>\n",
       "      <td>Piedmont</td>\n",
       "      <td>Barolo</td>\n",
       "      <td>NaN</td>\n",
       "      <td>Renato Ratti</td>\n",
       "      <td>Nebbiolo</td>\n",
       "    </tr>\n",
       "  </tbody>\n",
       "</table>\n",
       "</div>"
      ],
      "text/plain": [
       "       user_name    country  \\\n",
       "0            NaN  Australia   \n",
       "1  @wawinereport         US   \n",
       "2            NaN      Italy   \n",
       "\n",
       "                                        review_title  \\\n",
       "0  Andrew Peace 2007 Peace Family Vineyard Chardo...   \n",
       "1  North by Northwest 2014 Red (Columbia Valley (...   \n",
       "2                  Renato Ratti 2007 Conca  (Barolo)   \n",
       "\n",
       "                                  review_description            designation  \\\n",
       "0  Classic Chardonnay aromas of apple, pear and h...  Peace Family Vineyard   \n",
       "1  This wine is near equal parts Syrah and Merlot...                    NaN   \n",
       "2  Barolo Conca opens with inky dark concentratio...                  Conca   \n",
       "\n",
       "   points  price         province                 region_1         region_2  \\\n",
       "0      83   10.0  Australia Other  South Eastern Australia              NaN   \n",
       "1      89   15.0       Washington     Columbia Valley (WA)  Columbia Valley   \n",
       "2      94   80.0         Piedmont                   Barolo              NaN   \n",
       "\n",
       "               winery     variety  \n",
       "0        Andrew Peace  Chardonnay  \n",
       "1  North by Northwest   Red Blend  \n",
       "2        Renato Ratti    Nebbiolo  "
      ]
     },
     "execution_count": 30,
     "metadata": {},
     "output_type": "execute_result"
    }
   ],
   "source": [
    "wine.head(3)"
   ]
  },
  {
   "cell_type": "code",
   "execution_count": 31,
   "metadata": {},
   "outputs": [
    {
     "data": {
      "text/plain": [
       "'Andrew Peace 2007 Peace Family Vineyard Chardonnay (South Eastern Australia)'"
      ]
     },
     "execution_count": 31,
     "metadata": {},
     "output_type": "execute_result"
    }
   ],
   "source": [
    "wine['review_title'].loc[0]"
   ]
  },
  {
   "cell_type": "markdown",
   "metadata": {},
   "source": [
    "- Review title actually has the variety name, so extracting it will be of great significance\n",
    "- User_name,Country,points,price,region_1,province,winery might be more important"
   ]
  },
  {
   "cell_type": "code",
   "execution_count": 32,
   "metadata": {},
   "outputs": [],
   "source": [
    "wine=wine[['country','price','points','region_1','variety','user_name','province','winery']]\n",
    "test_df=test_df[['country','price','points','region_1','user_name','province','winery']]"
   ]
  },
  {
   "cell_type": "code",
   "execution_count": 33,
   "metadata": {},
   "outputs": [],
   "source": [
    "wine=wine.dropna()\n",
    "test_df=test_df.dropna()"
   ]
  },
  {
   "cell_type": "code",
   "execution_count": 34,
   "metadata": {},
   "outputs": [],
   "source": [
    "wine['review']=pd.cut(wine['points'],3,labels=['good','vgood','vvgood'])\n",
    "test_df['review']=pd.cut(test_df['points'],3,labels=['good','vgood','vvgood'])"
   ]
  },
  {
   "cell_type": "code",
   "execution_count": 35,
   "metadata": {},
   "outputs": [
    {
     "name": "stdout",
     "output_type": "stream",
     "text": [
      "country price points region_1 review user_name province winery "
     ]
    }
   ],
   "source": [
    "\n",
    "label_encoder = LabelEncoder()\n",
    "for i in ['country','price','points','region_1','review','user_name','province','winery']:\n",
    "    print(i, end=\" \")\n",
    "    wine[str(i)+'enc']=label_encoder.fit_transform(wine[i])\n",
    "    test_df[str(i)+'enc']=label_encoder.fit_transform(test_df[i])\n",
    "wine['varietyenc']=label_encoder.fit_transform(wine['variety'])"
   ]
  },
  {
   "cell_type": "code",
   "execution_count": 36,
   "metadata": {},
   "outputs": [],
   "source": [
    "wine.drop(['country','price','points','region_1','user_name','province','winery','variety','review'],axis=1,inplace=True)\n",
    "test_df.drop(['country','price','points','region_1','user_name','province','winery','review'],axis=1,inplace=True)"
   ]
  },
  {
   "cell_type": "code",
   "execution_count": 37,
   "metadata": {},
   "outputs": [
    {
     "data": {
      "text/html": [
       "<div>\n",
       "<style scoped>\n",
       "    .dataframe tbody tr th:only-of-type {\n",
       "        vertical-align: middle;\n",
       "    }\n",
       "\n",
       "    .dataframe tbody tr th {\n",
       "        vertical-align: top;\n",
       "    }\n",
       "\n",
       "    .dataframe thead th {\n",
       "        text-align: right;\n",
       "    }\n",
       "</style>\n",
       "<table border=\"1\" class=\"dataframe\">\n",
       "  <thead>\n",
       "    <tr style=\"text-align: right;\">\n",
       "      <th></th>\n",
       "      <th>countryenc</th>\n",
       "      <th>priceenc</th>\n",
       "      <th>pointsenc</th>\n",
       "      <th>region_1enc</th>\n",
       "      <th>reviewenc</th>\n",
       "      <th>user_nameenc</th>\n",
       "      <th>provinceenc</th>\n",
       "      <th>wineryenc</th>\n",
       "      <th>varietyenc</th>\n",
       "    </tr>\n",
       "  </thead>\n",
       "  <tbody>\n",
       "    <tr>\n",
       "      <th>countryenc</th>\n",
       "      <td>1.000000</td>\n",
       "      <td>0.035838</td>\n",
       "      <td>0.141455</td>\n",
       "      <td>0.202341</td>\n",
       "      <td>0.116462</td>\n",
       "      <td>-0.142025</td>\n",
       "      <td>0.047083</td>\n",
       "      <td>0.112952</td>\n",
       "      <td>0.176954</td>\n",
       "    </tr>\n",
       "    <tr>\n",
       "      <th>priceenc</th>\n",
       "      <td>0.035838</td>\n",
       "      <td>1.000000</td>\n",
       "      <td>0.530426</td>\n",
       "      <td>-0.011550</td>\n",
       "      <td>0.435332</td>\n",
       "      <td>-0.011313</td>\n",
       "      <td>-0.053277</td>\n",
       "      <td>0.000140</td>\n",
       "      <td>-0.112976</td>\n",
       "    </tr>\n",
       "    <tr>\n",
       "      <th>pointsenc</th>\n",
       "      <td>0.141455</td>\n",
       "      <td>0.530426</td>\n",
       "      <td>1.000000</td>\n",
       "      <td>0.015038</td>\n",
       "      <td>0.814046</td>\n",
       "      <td>-0.128513</td>\n",
       "      <td>-0.035245</td>\n",
       "      <td>0.005707</td>\n",
       "      <td>-0.028336</td>\n",
       "    </tr>\n",
       "    <tr>\n",
       "      <th>region_1enc</th>\n",
       "      <td>0.202341</td>\n",
       "      <td>-0.011550</td>\n",
       "      <td>0.015038</td>\n",
       "      <td>1.000000</td>\n",
       "      <td>0.004610</td>\n",
       "      <td>0.138007</td>\n",
       "      <td>0.066798</td>\n",
       "      <td>0.073579</td>\n",
       "      <td>0.081985</td>\n",
       "    </tr>\n",
       "    <tr>\n",
       "      <th>reviewenc</th>\n",
       "      <td>0.116462</td>\n",
       "      <td>0.435332</td>\n",
       "      <td>0.814046</td>\n",
       "      <td>0.004610</td>\n",
       "      <td>1.000000</td>\n",
       "      <td>-0.116368</td>\n",
       "      <td>-0.004390</td>\n",
       "      <td>0.006078</td>\n",
       "      <td>-0.022847</td>\n",
       "    </tr>\n",
       "    <tr>\n",
       "      <th>user_nameenc</th>\n",
       "      <td>-0.142025</td>\n",
       "      <td>-0.011313</td>\n",
       "      <td>-0.128513</td>\n",
       "      <td>0.138007</td>\n",
       "      <td>-0.116368</td>\n",
       "      <td>1.000000</td>\n",
       "      <td>-0.067254</td>\n",
       "      <td>-0.067578</td>\n",
       "      <td>-0.169343</td>\n",
       "    </tr>\n",
       "    <tr>\n",
       "      <th>provinceenc</th>\n",
       "      <td>0.047083</td>\n",
       "      <td>-0.053277</td>\n",
       "      <td>-0.035245</td>\n",
       "      <td>0.066798</td>\n",
       "      <td>-0.004390</td>\n",
       "      <td>-0.067254</td>\n",
       "      <td>1.000000</td>\n",
       "      <td>0.040238</td>\n",
       "      <td>0.164386</td>\n",
       "    </tr>\n",
       "    <tr>\n",
       "      <th>wineryenc</th>\n",
       "      <td>0.112952</td>\n",
       "      <td>0.000140</td>\n",
       "      <td>0.005707</td>\n",
       "      <td>0.073579</td>\n",
       "      <td>0.006078</td>\n",
       "      <td>-0.067578</td>\n",
       "      <td>0.040238</td>\n",
       "      <td>1.000000</td>\n",
       "      <td>0.084704</td>\n",
       "    </tr>\n",
       "    <tr>\n",
       "      <th>varietyenc</th>\n",
       "      <td>0.176954</td>\n",
       "      <td>-0.112976</td>\n",
       "      <td>-0.028336</td>\n",
       "      <td>0.081985</td>\n",
       "      <td>-0.022847</td>\n",
       "      <td>-0.169343</td>\n",
       "      <td>0.164386</td>\n",
       "      <td>0.084704</td>\n",
       "      <td>1.000000</td>\n",
       "    </tr>\n",
       "  </tbody>\n",
       "</table>\n",
       "</div>"
      ],
      "text/plain": [
       "              countryenc  priceenc  pointsenc  region_1enc  reviewenc  \\\n",
       "countryenc      1.000000  0.035838   0.141455     0.202341   0.116462   \n",
       "priceenc        0.035838  1.000000   0.530426    -0.011550   0.435332   \n",
       "pointsenc       0.141455  0.530426   1.000000     0.015038   0.814046   \n",
       "region_1enc     0.202341 -0.011550   0.015038     1.000000   0.004610   \n",
       "reviewenc       0.116462  0.435332   0.814046     0.004610   1.000000   \n",
       "user_nameenc   -0.142025 -0.011313  -0.128513     0.138007  -0.116368   \n",
       "provinceenc     0.047083 -0.053277  -0.035245     0.066798  -0.004390   \n",
       "wineryenc       0.112952  0.000140   0.005707     0.073579   0.006078   \n",
       "varietyenc      0.176954 -0.112976  -0.028336     0.081985  -0.022847   \n",
       "\n",
       "              user_nameenc  provinceenc  wineryenc  varietyenc  \n",
       "countryenc       -0.142025     0.047083   0.112952    0.176954  \n",
       "priceenc         -0.011313    -0.053277   0.000140   -0.112976  \n",
       "pointsenc        -0.128513    -0.035245   0.005707   -0.028336  \n",
       "region_1enc       0.138007     0.066798   0.073579    0.081985  \n",
       "reviewenc        -0.116368    -0.004390   0.006078   -0.022847  \n",
       "user_nameenc      1.000000    -0.067254  -0.067578   -0.169343  \n",
       "provinceenc      -0.067254     1.000000   0.040238    0.164386  \n",
       "wineryenc        -0.067578     0.040238   1.000000    0.084704  \n",
       "varietyenc       -0.169343     0.164386   0.084704    1.000000  "
      ]
     },
     "execution_count": 37,
     "metadata": {},
     "output_type": "execute_result"
    }
   ],
   "source": [
    "wine.corr()"
   ]
  },
  {
   "cell_type": "code",
   "execution_count": 38,
   "metadata": {},
   "outputs": [
    {
     "data": {
      "text/plain": [
       "array([[<matplotlib.axes._subplots.AxesSubplot object at 0x000001E2AF77D940>,\n",
       "        <matplotlib.axes._subplots.AxesSubplot object at 0x000001E2AF777E48>],\n",
       "       [<matplotlib.axes._subplots.AxesSubplot object at 0x000001E2AF6F6F98>,\n",
       "        <matplotlib.axes._subplots.AxesSubplot object at 0x000001E2AD400390>]],\n",
       "      dtype=object)"
      ]
     },
     "execution_count": 38,
     "metadata": {},
     "output_type": "execute_result"
    },
    {
     "data": {
      "image/png": "[encoded data removed]",
      "text/plain": [
       "<Figure size 1440x1080 with 4 Axes>"
      ]
     },
     "metadata": {
      "needs_background": "light"
     },
     "output_type": "display_data"
    }
   ],
   "source": [
    "\n",
    "wine[['countryenc', 'reviewenc', 'region_1enc', 'varietyenc']].hist(figsize=(20,15))"
   ]
  },
  {
   "cell_type": "markdown",
   "metadata": {},
   "source": [
    "### Splitting data "
   ]
  },
  {
   "cell_type": "code",
   "execution_count": 43,
   "metadata": {},
   "outputs": [],
   "source": [
    "X=wine.drop('varietyenc',axis=1)\n",
    "Y=wine['varietyenc']\n",
    "\n",
    "X_train, X_test, Y_train, Y_test = train_test_split(X, Y, test_size=0.25, random_state=42)"
   ]
  },
  {
   "cell_type": "code",
   "execution_count": 44,
   "metadata": {},
   "outputs": [],
   "source": [
    "DTC=DecisionTreeClassifier()\n",
    "DTC.fit(X_train,Y_train)\n",
    "y_pred=DTC.predict(X_test)"
   ]
  },
  {
   "cell_type": "code",
   "execution_count": 45,
   "metadata": {},
   "outputs": [
    {
     "data": {
      "text/plain": [
       "0.5874387305807095"
      ]
     },
     "execution_count": 45,
     "metadata": {},
     "output_type": "execute_result"
    }
   ],
   "source": [
    "accuracy_score(Y_test, y_pred)"
   ]
  },
  {
   "cell_type": "markdown",
   "metadata": {},
   "source": [
    "### Implementing Random Forest "
   ]
  },
  {
   "cell_type": "code",
   "execution_count": 42,
   "metadata": {},
   "outputs": [
    {
     "data": {
      "image/png": "[encoded data removed]",
      "text/plain": [
       "<Figure size 432x288 with 1 Axes>"
      ]
     },
     "metadata": {
      "needs_background": "light"
     },
     "output_type": "display_data"
    }
   ],
   "source": [
    "\n",
    "\n",
    "RFtest=pd.DataFrame()\n",
    "for i in range(1, 15):\n",
    "    RFC = RandomForestClassifier(n_estimators=100, max_depth=i, random_state=0)\n",
    "    RFC.fit(X_train, Y_train)\n",
    "    y_train_pred=RFC.predict(X_train)\n",
    "    y_test_pred=RFC.predict(X_test)\n",
    "    RFtest.at[i, 'TrainAcc']=accuracy_score(Y_train, y_train_pred)\n",
    "    RFtest.at[i, 'TestAcc']=accuracy_score(Y_test, y_test_pred)\n",
    "plt.plot(RFtest.index, RFtest.TrainAcc, label='Train Acc')\n",
    "plt.plot(RFtest.index, RFtest.TestAcc, label='Test Acc')\n",
    "plt.legend()\n",
    "plt.xlabel('Max depth')\n",
    "plt.ylabel('Accuracy')\n",
    "plt.grid()\n",
    "\n"
   ]
  },
  {
   "cell_type": "markdown",
   "metadata": {},
   "source": [
    "- Choosing max_depth =15"
   ]
  },
  {
   "cell_type": "code",
   "execution_count": 46,
   "metadata": {},
   "outputs": [
    {
     "data": {
      "text/plain": [
       "0.5947495223062225"
      ]
     },
     "execution_count": 46,
     "metadata": {},
     "output_type": "execute_result"
    }
   ],
   "source": [
    "RFC = RandomForestClassifier(max_depth=15, random_state=0)\n",
    "\n",
    "RFC.fit(X_train, Y_train)\n",
    "y_pred=RFC.predict(X_test)\n",
    "accuracy_score(Y_test, y_pred)"
   ]
  },
  {
   "cell_type": "code",
   "execution_count": 48,
   "metadata": {},
   "outputs": [
    {
     "name": "stdout",
     "output_type": "stream",
     "text": [
      "              precision    recall  f1-score   support\n",
      "\n",
      "           0       0.83      0.76      0.79       860\n",
      "           1       0.91      0.56      0.70       128\n",
      "           2       0.63      0.19      0.29       163\n",
      "           3       0.43      0.52      0.47      1046\n",
      "           4       0.75      0.94      0.83       211\n",
      "           5       0.48      0.50      0.49      1430\n",
      "           6       0.98      0.97      0.97       161\n",
      "           7       0.41      0.27      0.33       142\n",
      "           8       0.25      0.22      0.24         9\n",
      "           9       0.51      0.72      0.60       464\n",
      "          10       0.35      0.10      0.15       324\n",
      "          11       0.98      0.97      0.98       363\n",
      "          12       0.68      0.48      0.56       107\n",
      "          13       0.45      0.38      0.41       240\n",
      "          14       0.62      0.81      0.70      1697\n",
      "          15       0.59      0.63      0.61      1161\n",
      "          16       0.69      0.55      0.61       220\n",
      "          17       0.42      0.43      0.42       300\n",
      "          18       0.72      0.60      0.65       475\n",
      "          19       0.93      0.57      0.70       337\n",
      "          20       0.52      0.46      0.49       468\n",
      "          21       0.88      0.67      0.76       311\n",
      "          22       0.41      0.31      0.35       509\n",
      "          23       0.70      0.78      0.74       340\n",
      "          24       0.54      0.25      0.35       251\n",
      "          25       0.38      0.48      0.42       320\n",
      "\n",
      "    accuracy                           0.59     12037\n",
      "   macro avg       0.62      0.54      0.56     12037\n",
      "weighted avg       0.60      0.59      0.59     12037\n",
      "\n"
     ]
    }
   ],
   "source": [
    "print(classification_report(Y_test, y_pred))"
   ]
  },
  {
   "cell_type": "markdown",
   "metadata": {},
   "source": [
    "- Least Precision for a class is 0.25, max is 0.98"
   ]
  },
  {
   "cell_type": "markdown",
   "metadata": {},
   "source": [
    "### Feature Extraction "
   ]
  },
  {
   "cell_type": "code",
   "execution_count": 50,
   "metadata": {},
   "outputs": [],
   "source": [
    "es=ft.EntitySet(id='Wine')"
   ]
  },
  {
   "cell_type": "code",
   "execution_count": 51,
   "metadata": {},
   "outputs": [
    {
     "data": {
      "text/plain": [
       "Entityset: Wine\n",
       "  Entities:\n",
       "    data [Rows: 48147, Columns: 9]\n",
       "  Relationships:\n",
       "    No relationships"
      ]
     },
     "execution_count": 51,
     "metadata": {},
     "output_type": "execute_result"
    }
   ],
   "source": [
    "es.entity_from_dataframe(entity_id='data',dataframe=X,make_index=True,index='index')"
   ]
  },
  {
   "cell_type": "code",
   "execution_count": 52,
   "metadata": {},
   "outputs": [],
   "source": [
    "feature_matrix,feature_defs=ft.dfs(entityset=es,target_entity='data',max_depth=1,trans_primitives=['add_numeric','multiply_numeric'])"
   ]
  },
  {
   "cell_type": "code",
   "execution_count": 53,
   "metadata": {},
   "outputs": [],
   "source": [
    "x_train,x_test,y_train,y_test=train_test_split(feature_matrix,Y,test_size=0.25,random_state=10)"
   ]
  },
  {
   "cell_type": "code",
   "execution_count": 54,
   "metadata": {},
   "outputs": [],
   "source": [
    "RFC2=RandomForestClassifier(max_depth=15,random_state=10)"
   ]
  },
  {
   "cell_type": "code",
   "execution_count": 55,
   "metadata": {},
   "outputs": [
    {
     "data": {
      "text/plain": [
       "RandomForestClassifier(bootstrap=True, ccp_alpha=0.0, class_weight=None,\n",
       "                       criterion='gini', max_depth=15, max_features='auto',\n",
       "                       max_leaf_nodes=None, max_samples=None,\n",
       "                       min_impurity_decrease=0.0, min_impurity_split=None,\n",
       "                       min_samples_leaf=1, min_samples_split=2,\n",
       "                       min_weight_fraction_leaf=0.0, n_estimators=100,\n",
       "                       n_jobs=None, oob_score=False, random_state=10, verbose=0,\n",
       "                       warm_start=False)"
      ]
     },
     "execution_count": 55,
     "metadata": {},
     "output_type": "execute_result"
    }
   ],
   "source": [
    "RFC2.fit(x_train,y_train)"
   ]
  },
  {
   "cell_type": "code",
   "execution_count": 56,
   "metadata": {},
   "outputs": [
    {
     "data": {
      "text/plain": [
       "(0.787870396012185, 0.6086234111489573)"
      ]
     },
     "execution_count": 56,
     "metadata": {},
     "output_type": "execute_result"
    }
   ],
   "source": [
    "accuracy_score(y_train,RFC2.predict(x_train)),accuracy_score(y_test,RFC2.predict(x_test))"
   ]
  },
  {
   "cell_type": "markdown",
   "metadata": {},
   "source": [
    "-There is an increment in accuracy to 60%"
   ]
  },
  {
   "cell_type": "code",
   "execution_count": 64,
   "metadata": {},
   "outputs": [
    {
     "data": {
      "text/html": [
       "<div>\n",
       "<style scoped>\n",
       "    .dataframe tbody tr th:only-of-type {\n",
       "        vertical-align: middle;\n",
       "    }\n",
       "\n",
       "    .dataframe tbody tr th {\n",
       "        vertical-align: top;\n",
       "    }\n",
       "\n",
       "    .dataframe thead th {\n",
       "        text-align: right;\n",
       "    }\n",
       "</style>\n",
       "<table border=\"1\" class=\"dataframe\">\n",
       "  <thead>\n",
       "    <tr style=\"text-align: right;\">\n",
       "      <th></th>\n",
       "      <th>Decision_tree</th>\n",
       "      <th>RandomForest</th>\n",
       "      <th>After_feautue_extraction</th>\n",
       "    </tr>\n",
       "  </thead>\n",
       "  <tbody>\n",
       "    <tr>\n",
       "      <th>0</th>\n",
       "      <td>0.587439</td>\n",
       "      <td>0.59475</td>\n",
       "      <td>0.608623</td>\n",
       "    </tr>\n",
       "  </tbody>\n",
       "</table>\n",
       "</div>"
      ],
      "text/plain": [
       "   Decision_tree  RandomForest  After_feautue_extraction\n",
       "0       0.587439       0.59475                  0.608623"
      ]
     },
     "execution_count": 64,
     "metadata": {},
     "output_type": "execute_result"
    }
   ],
   "source": [
    "results=pd.DataFrame({'Decision_tree':accuracy_score(Y_test,DTC.predict(X_test)),\n",
    "                      'RandomForest':accuracy_score(Y_test,y_pred=RFC.predict(X_test)),\n",
    "                     'After_feautue_extraction':accuracy_score(y_test,RFC2.predict(x_test))},index=[0])\n",
    "results"
   ]
  },
  {
   "cell_type": "code",
   "execution_count": 65,
   "metadata": {},
   "outputs": [
    {
     "data": {
      "text/plain": [
       "<matplotlib.axes._subplots.AxesSubplot at 0x1e2cab60fd0>"
      ]
     },
     "execution_count": 65,
     "metadata": {},
     "output_type": "execute_result"
    },
    {
     "data": {
      "image/png": "[encoded data removed]",
      "text/plain": [
       "<Figure size 432x288 with 1 Axes>"
      ]
     },
     "metadata": {
      "needs_background": "light"
     },
     "output_type": "display_data"
    }
   ],
   "source": [
    "results.plot(kind=\"bar\")"
   ]
  },
  {
   "cell_type": "code",
   "execution_count": 66,
   "metadata": {},
   "outputs": [],
   "source": [
    "Y_SOl=RFC2.predict(x_test)"
   ]
  },
  {
   "cell_type": "code",
   "execution_count": 68,
   "metadata": {},
   "outputs": [
    {
     "data": {
      "text/plain": [
       "array(['Syrah', 'Red Blend', 'Red Blend', ..., 'Nebbiolo', 'Pinot Noir',\n",
       "       'Sangiovese'], dtype=object)"
      ]
     },
     "execution_count": 68,
     "metadata": {},
     "output_type": "execute_result"
    }
   ],
   "source": [
    "Y_SOl=label_encoder.inverse_transform(Y_SOl)\n",
    "Y_SOl"
   ]
  },
  {
   "cell_type": "code",
   "execution_count": null,
   "metadata": {},
   "outputs": [],
   "source": []
  }
 ],
 "metadata": {
  "kernelspec": {
   "display_name": "Python 3",
   "language": "python",
   "name": "python3"
  },
  "language_info": {
   "codemirror_mode": {
    "name": "ipython",
    "version": 3
   },
   "file_extension": ".py",
   "mimetype": "text/x-python",
   "name": "python",
   "nbconvert_exporter": "python",
   "pygments_lexer": "ipython3",
   "version": "3.7.2"
  }
 },
 "nbformat": 4,
 "nbformat_minor": 4
}
